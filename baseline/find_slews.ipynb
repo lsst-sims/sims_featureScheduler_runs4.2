{
 "cells": [
  {
   "cell_type": "code",
   "execution_count": 1,
   "id": "2919595f-b0f9-4502-870e-119377c5077d",
   "metadata": {},
   "outputs": [],
   "source": [
    "import numpy as np\n",
    "import sqlite3\n",
    "import pandas as pd\n",
    "import matplotlib.pylab as plt\n",
    "%matplotlib inline\n",
    "from scipy.stats import binned_statistic"
   ]
  },
  {
   "cell_type": "code",
   "execution_count": 2,
   "id": "da75e782-049d-41b9-82cf-dbda0e73f137",
   "metadata": {},
   "outputs": [],
   "source": [
    "def osf(data):\n",
    "    result = np.sum(data[\"visitExposureTime\"]) / np.sum(\n",
    "            data[\"slewTime\"] + data[\"visitTime\"]\n",
    "        )\n",
    "    return result"
   ]
  },
  {
   "cell_type": "code",
   "execution_count": 13,
   "id": "0d0ba13c-d988-401d-bbf7-f7fa6d53ff9e",
   "metadata": {},
   "outputs": [],
   "source": [
    "con = sqlite3.connect(\"baseline_v4.2_1yrs.db\")\n",
    "df = pd.read_sql(\"select night,slewtime,visitTime,visitExposureTime,scheduler_note from observations;\", con)\n",
    "con.close()"
   ]
  },
  {
   "cell_type": "code",
   "execution_count": 4,
   "id": "8b6d8ffa-ea69-40ee-84d4-28ec80c5c798",
   "metadata": {},
   "outputs": [
    {
     "data": {
      "text/html": [
       "<div>\n",
       "<style scoped>\n",
       "    .dataframe tbody tr th:only-of-type {\n",
       "        vertical-align: middle;\n",
       "    }\n",
       "\n",
       "    .dataframe tbody tr th {\n",
       "        vertical-align: top;\n",
       "    }\n",
       "\n",
       "    .dataframe thead th {\n",
       "        text-align: right;\n",
       "    }\n",
       "</style>\n",
       "<table border=\"1\" class=\"dataframe\">\n",
       "  <thead>\n",
       "    <tr style=\"text-align: right;\">\n",
       "      <th></th>\n",
       "      <th>night</th>\n",
       "      <th>slewTime</th>\n",
       "      <th>visitTime</th>\n",
       "      <th>visitExposureTime</th>\n",
       "    </tr>\n",
       "  </thead>\n",
       "  <tbody>\n",
       "    <tr>\n",
       "      <th>0</th>\n",
       "      <td>0</td>\n",
       "      <td>102.701384</td>\n",
       "      <td>16.0</td>\n",
       "      <td>15.0</td>\n",
       "    </tr>\n",
       "    <tr>\n",
       "      <th>1</th>\n",
       "      <td>0</td>\n",
       "      <td>4.766004</td>\n",
       "      <td>16.0</td>\n",
       "      <td>15.0</td>\n",
       "    </tr>\n",
       "    <tr>\n",
       "      <th>2</th>\n",
       "      <td>0</td>\n",
       "      <td>4.772121</td>\n",
       "      <td>16.0</td>\n",
       "      <td>15.0</td>\n",
       "    </tr>\n",
       "    <tr>\n",
       "      <th>3</th>\n",
       "      <td>0</td>\n",
       "      <td>4.647978</td>\n",
       "      <td>16.0</td>\n",
       "      <td>15.0</td>\n",
       "    </tr>\n",
       "    <tr>\n",
       "      <th>4</th>\n",
       "      <td>0</td>\n",
       "      <td>4.801038</td>\n",
       "      <td>16.0</td>\n",
       "      <td>15.0</td>\n",
       "    </tr>\n",
       "    <tr>\n",
       "      <th>...</th>\n",
       "      <td>...</td>\n",
       "      <td>...</td>\n",
       "      <td>...</td>\n",
       "      <td>...</td>\n",
       "    </tr>\n",
       "    <tr>\n",
       "      <th>1997417</th>\n",
       "      <td>3652</td>\n",
       "      <td>5.133077</td>\n",
       "      <td>33.6</td>\n",
       "      <td>29.2</td>\n",
       "    </tr>\n",
       "    <tr>\n",
       "      <th>1997418</th>\n",
       "      <td>3652</td>\n",
       "      <td>5.186505</td>\n",
       "      <td>33.6</td>\n",
       "      <td>29.2</td>\n",
       "    </tr>\n",
       "    <tr>\n",
       "      <th>1997419</th>\n",
       "      <td>3652</td>\n",
       "      <td>5.136629</td>\n",
       "      <td>33.6</td>\n",
       "      <td>29.2</td>\n",
       "    </tr>\n",
       "    <tr>\n",
       "      <th>1997420</th>\n",
       "      <td>3652</td>\n",
       "      <td>5.116208</td>\n",
       "      <td>33.6</td>\n",
       "      <td>29.2</td>\n",
       "    </tr>\n",
       "    <tr>\n",
       "      <th>1997421</th>\n",
       "      <td>3652</td>\n",
       "      <td>5.112705</td>\n",
       "      <td>33.6</td>\n",
       "      <td>29.2</td>\n",
       "    </tr>\n",
       "  </tbody>\n",
       "</table>\n",
       "<p>1997422 rows × 4 columns</p>\n",
       "</div>"
      ],
      "text/plain": [
       "         night    slewTime  visitTime  visitExposureTime\n",
       "0            0  102.701384       16.0               15.0\n",
       "1            0    4.766004       16.0               15.0\n",
       "2            0    4.772121       16.0               15.0\n",
       "3            0    4.647978       16.0               15.0\n",
       "4            0    4.801038       16.0               15.0\n",
       "...        ...         ...        ...                ...\n",
       "1997417   3652    5.133077       33.6               29.2\n",
       "1997418   3652    5.186505       33.6               29.2\n",
       "1997419   3652    5.136629       33.6               29.2\n",
       "1997420   3652    5.116208       33.6               29.2\n",
       "1997421   3652    5.112705       33.6               29.2\n",
       "\n",
       "[1997422 rows x 4 columns]"
      ]
     },
     "execution_count": 4,
     "metadata": {},
     "output_type": "execute_result"
    }
   ],
   "source": [
    "df"
   ]
  },
  {
   "cell_type": "code",
   "execution_count": null,
   "id": "7c9fb98e-4dd5-4d1d-8a1f-0e229a2d266c",
   "metadata": {},
   "outputs": [],
   "source": []
  },
  {
   "cell_type": "code",
   "execution_count": 5,
   "id": "b1ad4848-a29f-4386-b391-925154d3b4c7",
   "metadata": {},
   "outputs": [],
   "source": [
    "bins = np.arange(0,df[\"night\"].max()+2) - 0.5\n",
    "bs, be, bn = binned_statistic(df[\"night\"], df[\"slewTime\"], statistic=np.sum, bins=bins)"
   ]
  },
  {
   "cell_type": "code",
   "execution_count": 6,
   "id": "df6cd27a-0636-46e5-8a94-597f1015b27c",
   "metadata": {},
   "outputs": [
    {
     "data": {
      "text/plain": [
       "[<matplotlib.lines.Line2D at 0x16884c410>]"
      ]
     },
     "execution_count": 6,
     "metadata": {},
     "output_type": "execute_result"
    },
    {
     "data": {
      "image/png": "[encoded data removed]",
      "text/plain": [
       "<Figure size 640x480 with 1 Axes>"
      ]
     },
     "metadata": {},
     "output_type": "display_data"
    }
   ],
   "source": [
    "plt.plot(bins[1:], bs, 'ko')"
   ]
  },
  {
   "cell_type": "code",
   "execution_count": 15,
   "id": "faaf9e01-2b6c-43be-8161-152997c2a4d3",
   "metadata": {},
   "outputs": [],
   "source": [
    "bins = np.arange(0,df[\"night\"].max()+2) - 0.5\n",
    "u_nights = np.unique(df[\"night\"])\n",
    "bs = np.empty(u_nights.size)\n",
    "for i,night in enumerate(u_nights):\n",
    "    indx = np.where(df[\"night\"] == night)\n",
    "    bs[i] = osf(df.iloc[indx])"
   ]
  },
  {
   "cell_type": "code",
   "execution_count": 16,
   "id": "3a59f2b7-04c6-4f04-96ad-91562995697c",
   "metadata": {},
   "outputs": [
    {
     "data": {
      "text/plain": [
       "[<matplotlib.lines.Line2D at 0x168aaa090>]"
      ]
     },
     "execution_count": 16,
     "metadata": {},
     "output_type": "execute_result"
    },
    {
     "data": {
      "image/png": "[encoded data removed]",
      "text/plain": [
       "<Figure size 640x480 with 1 Axes>"
      ]
     },
     "metadata": {},
     "output_type": "display_data"
    }
   ],
   "source": [
    "plt.plot(u_nights, bs, 'ko')"
   ]
  },
  {
   "cell_type": "code",
   "execution_count": 17,
   "id": "90f1df1c-b76a-4370-b029-8180a0c64ca7",
   "metadata": {},
   "outputs": [
    {
     "data": {
      "text/plain": [
       "array([ 76, 290])"
      ]
     },
     "execution_count": 17,
     "metadata": {},
     "output_type": "execute_result"
    }
   ],
   "source": [
    "u_nights[np.where(bs < 0.6)]"
   ]
  },
  {
   "cell_type": "code",
   "execution_count": 19,
   "id": "9950fa6c-41f8-4e17-b628-5b169f8f1f13",
   "metadata": {},
   "outputs": [
    {
     "data": {
      "text/html": [
       "<div>\n",
       "<style scoped>\n",
       "    .dataframe tbody tr th:only-of-type {\n",
       "        vertical-align: middle;\n",
       "    }\n",
       "\n",
       "    .dataframe tbody tr th {\n",
       "        vertical-align: top;\n",
       "    }\n",
       "\n",
       "    .dataframe thead th {\n",
       "        text-align: right;\n",
       "    }\n",
       "</style>\n",
       "<table border=\"1\" class=\"dataframe\">\n",
       "  <thead>\n",
       "    <tr style=\"text-align: right;\">\n",
       "      <th></th>\n",
       "      <th>night</th>\n",
       "      <th>slewTime</th>\n",
       "      <th>visitTime</th>\n",
       "      <th>visitExposureTime</th>\n",
       "      <th>scheduler_note</th>\n",
       "    </tr>\n",
       "  </thead>\n",
       "  <tbody>\n",
       "    <tr>\n",
       "      <th>143062</th>\n",
       "      <td>290</td>\n",
       "      <td>55.887836</td>\n",
       "      <td>33.6</td>\n",
       "      <td>29.2</td>\n",
       "      <td>greedy</td>\n",
       "    </tr>\n",
       "  </tbody>\n",
       "</table>\n",
       "</div>"
      ],
      "text/plain": [
       "        night   slewTime  visitTime  visitExposureTime scheduler_note\n",
       "143062    290  55.887836       33.6               29.2         greedy"
      ]
     },
     "execution_count": 19,
     "metadata": {},
     "output_type": "execute_result"
    }
   ],
   "source": [
    "indx = np.where(df[\"night\"] == 290)\n",
    "df.iloc[indx]"
   ]
  },
  {
   "cell_type": "code",
   "execution_count": 20,
   "id": "c6bc6fd9-7e52-4dae-855d-b52a56aeb4bd",
   "metadata": {},
   "outputs": [],
   "source": [
    "# why on earth are there nights with only 1 greedy image?"
   ]
  },
  {
   "cell_type": "code",
   "execution_count": 21,
   "id": "dac5d2bc-efe9-45d0-8cd6-624bd4b0d4b0",
   "metadata": {},
   "outputs": [
    {
     "data": {
      "text/html": [
       "<div>\n",
       "<style scoped>\n",
       "    .dataframe tbody tr th:only-of-type {\n",
       "        vertical-align: middle;\n",
       "    }\n",
       "\n",
       "    .dataframe tbody tr th {\n",
       "        vertical-align: top;\n",
       "    }\n",
       "\n",
       "    .dataframe thead th {\n",
       "        text-align: right;\n",
       "    }\n",
       "</style>\n",
       "<table border=\"1\" class=\"dataframe\">\n",
       "  <thead>\n",
       "    <tr style=\"text-align: right;\">\n",
       "      <th></th>\n",
       "      <th>night</th>\n",
       "      <th>slewTime</th>\n",
       "      <th>visitTime</th>\n",
       "      <th>visitExposureTime</th>\n",
       "      <th>scheduler_note</th>\n",
       "    </tr>\n",
       "  </thead>\n",
       "  <tbody>\n",
       "    <tr>\n",
       "      <th>32198</th>\n",
       "      <td>76</td>\n",
       "      <td>58.235295</td>\n",
       "      <td>33.6</td>\n",
       "      <td>29.2</td>\n",
       "      <td>greedy</td>\n",
       "    </tr>\n",
       "    <tr>\n",
       "      <th>32199</th>\n",
       "      <td>76</td>\n",
       "      <td>4.831796</td>\n",
       "      <td>33.6</td>\n",
       "      <td>29.2</td>\n",
       "      <td>greedy</td>\n",
       "    </tr>\n",
       "  </tbody>\n",
       "</table>\n",
       "</div>"
      ],
      "text/plain": [
       "       night   slewTime  visitTime  visitExposureTime scheduler_note\n",
       "32198     76  58.235295       33.6               29.2         greedy\n",
       "32199     76   4.831796       33.6               29.2         greedy"
      ]
     },
     "execution_count": 21,
     "metadata": {},
     "output_type": "execute_result"
    }
   ],
   "source": [
    "indx = np.where(df[\"night\"] == 76)\n",
    "df.iloc[indx]"
   ]
  },
  {
   "cell_type": "code",
   "execution_count": null,
   "id": "63566105-85f2-41ff-86af-2e3814049015",
   "metadata": {},
   "outputs": [],
   "source": []
  }
 ],
 "metadata": {
  "kernelspec": {
   "display_name": "Python 3 (ipykernel)",
   "language": "python",
   "name": "python3"
  },
  "language_info": {
   "codemirror_mode": {
    "name": "ipython",
    "version": 3
   },
   "file_extension": ".py",
   "mimetype": "text/x-python",
   "name": "python",
   "nbconvert_exporter": "python",
   "pygments_lexer": "ipython3",
   "version": "3.11.8"
  }
 },
 "nbformat": 4,
 "nbformat_minor": 5
}
