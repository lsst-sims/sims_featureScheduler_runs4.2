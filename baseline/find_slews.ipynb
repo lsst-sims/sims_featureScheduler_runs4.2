{
 "cells": [
  {
   "cell_type": "code",
   "execution_count": 40,
   "id": "2919595f-b0f9-4502-870e-119377c5077d",
   "metadata": {},
   "outputs": [],
   "source": [
    "import numpy as np\n",
    "import sqlite3\n",
    "import pandas as pd\n",
    "import matplotlib.pylab as plt\n",
    "%matplotlib inline\n",
    "from scipy.stats import binned_statistic\n",
    "\n",
    "from rubin_scheduler.scheduler.model_observatory import ModelObservatory\n",
    "\n",
    "from astropy.time import Time\n"
   ]
  },
  {
   "cell_type": "code",
   "execution_count": 2,
   "id": "da75e782-049d-41b9-82cf-dbda0e73f137",
   "metadata": {},
   "outputs": [],
   "source": [
    "def osf(data):\n",
    "    result = np.sum(data[\"visitExposureTime\"]) / np.sum(\n",
    "            data[\"slewTime\"] + data[\"visitTime\"]\n",
    "        )\n",
    "    return result"
   ]
  },
  {
   "cell_type": "code",
   "execution_count": 13,
   "id": "0d0ba13c-d988-401d-bbf7-f7fa6d53ff9e",
   "metadata": {},
   "outputs": [],
   "source": [
    "con = sqlite3.connect(\"baseline_v4.2_1yrs.db\")\n",
    "df = pd.read_sql(\"select night,slewtime,visitTime,visitExposureTime,scheduler_note,observationStartMJD from observations;\", con)\n",
    "con.close()"
   ]
  },
  {
   "cell_type": "code",
   "execution_count": 14,
   "id": "8b6d8ffa-ea69-40ee-84d4-28ec80c5c798",
   "metadata": {},
   "outputs": [
    {
     "data": {
      "text/html": [
       "<div>\n",
       "<style scoped>\n",
       "    .dataframe tbody tr th:only-of-type {\n",
       "        vertical-align: middle;\n",
       "    }\n",
       "\n",
       "    .dataframe tbody tr th {\n",
       "        vertical-align: top;\n",
       "    }\n",
       "\n",
       "    .dataframe thead th {\n",
       "        text-align: right;\n",
       "    }\n",
       "</style>\n",
       "<table border=\"1\" class=\"dataframe\">\n",
       "  <thead>\n",
       "    <tr style=\"text-align: right;\">\n",
       "      <th></th>\n",
       "      <th>night</th>\n",
       "      <th>slewTime</th>\n",
       "      <th>visitTime</th>\n",
       "      <th>visitExposureTime</th>\n",
       "      <th>scheduler_note</th>\n",
       "      <th>observationStartMJD</th>\n",
       "    </tr>\n",
       "  </thead>\n",
       "  <tbody>\n",
       "    <tr>\n",
       "      <th>0</th>\n",
       "      <td>0</td>\n",
       "      <td>102.701384</td>\n",
       "      <td>16.0</td>\n",
       "      <td>15.0</td>\n",
       "      <td>twilight_near_sun, 0</td>\n",
       "      <td>60980.001582</td>\n",
       "    </tr>\n",
       "    <tr>\n",
       "      <th>1</th>\n",
       "      <td>0</td>\n",
       "      <td>4.766004</td>\n",
       "      <td>16.0</td>\n",
       "      <td>15.0</td>\n",
       "      <td>twilight_near_sun, 0</td>\n",
       "      <td>60980.001822</td>\n",
       "    </tr>\n",
       "    <tr>\n",
       "      <th>2</th>\n",
       "      <td>0</td>\n",
       "      <td>4.772121</td>\n",
       "      <td>16.0</td>\n",
       "      <td>15.0</td>\n",
       "      <td>twilight_near_sun, 0</td>\n",
       "      <td>60980.002063</td>\n",
       "    </tr>\n",
       "    <tr>\n",
       "      <th>3</th>\n",
       "      <td>0</td>\n",
       "      <td>4.647978</td>\n",
       "      <td>16.0</td>\n",
       "      <td>15.0</td>\n",
       "      <td>twilight_near_sun, 0</td>\n",
       "      <td>60980.002302</td>\n",
       "    </tr>\n",
       "    <tr>\n",
       "      <th>4</th>\n",
       "      <td>0</td>\n",
       "      <td>4.801038</td>\n",
       "      <td>16.0</td>\n",
       "      <td>15.0</td>\n",
       "      <td>twilight_near_sun, 0</td>\n",
       "      <td>60980.002542</td>\n",
       "    </tr>\n",
       "    <tr>\n",
       "      <th>...</th>\n",
       "      <td>...</td>\n",
       "      <td>...</td>\n",
       "      <td>...</td>\n",
       "      <td>...</td>\n",
       "      <td>...</td>\n",
       "      <td>...</td>\n",
       "    </tr>\n",
       "    <tr>\n",
       "      <th>184221</th>\n",
       "      <td>363</td>\n",
       "      <td>5.082469</td>\n",
       "      <td>33.6</td>\n",
       "      <td>29.2</td>\n",
       "      <td>pair_33, iz, b</td>\n",
       "      <td>61343.272006</td>\n",
       "    </tr>\n",
       "    <tr>\n",
       "      <th>184222</th>\n",
       "      <td>363</td>\n",
       "      <td>4.681706</td>\n",
       "      <td>33.6</td>\n",
       "      <td>29.2</td>\n",
       "      <td>pair_33, iz, b</td>\n",
       "      <td>61343.272449</td>\n",
       "    </tr>\n",
       "    <tr>\n",
       "      <th>184223</th>\n",
       "      <td>363</td>\n",
       "      <td>5.094924</td>\n",
       "      <td>33.6</td>\n",
       "      <td>29.2</td>\n",
       "      <td>pair_33, iz, b</td>\n",
       "      <td>61343.272897</td>\n",
       "    </tr>\n",
       "    <tr>\n",
       "      <th>184224</th>\n",
       "      <td>363</td>\n",
       "      <td>4.685788</td>\n",
       "      <td>33.6</td>\n",
       "      <td>29.2</td>\n",
       "      <td>pair_33, iz, b</td>\n",
       "      <td>61343.273340</td>\n",
       "    </tr>\n",
       "    <tr>\n",
       "      <th>184225</th>\n",
       "      <td>363</td>\n",
       "      <td>5.103507</td>\n",
       "      <td>33.6</td>\n",
       "      <td>29.2</td>\n",
       "      <td>pair_33, iz, b</td>\n",
       "      <td>61343.273788</td>\n",
       "    </tr>\n",
       "  </tbody>\n",
       "</table>\n",
       "<p>184226 rows × 6 columns</p>\n",
       "</div>"
      ],
      "text/plain": [
       "        night    slewTime  visitTime  visitExposureTime        scheduler_note  \\\n",
       "0           0  102.701384       16.0               15.0  twilight_near_sun, 0   \n",
       "1           0    4.766004       16.0               15.0  twilight_near_sun, 0   \n",
       "2           0    4.772121       16.0               15.0  twilight_near_sun, 0   \n",
       "3           0    4.647978       16.0               15.0  twilight_near_sun, 0   \n",
       "4           0    4.801038       16.0               15.0  twilight_near_sun, 0   \n",
       "...       ...         ...        ...                ...                   ...   \n",
       "184221    363    5.082469       33.6               29.2        pair_33, iz, b   \n",
       "184222    363    4.681706       33.6               29.2        pair_33, iz, b   \n",
       "184223    363    5.094924       33.6               29.2        pair_33, iz, b   \n",
       "184224    363    4.685788       33.6               29.2        pair_33, iz, b   \n",
       "184225    363    5.103507       33.6               29.2        pair_33, iz, b   \n",
       "\n",
       "        observationStartMJD  \n",
       "0              60980.001582  \n",
       "1              60980.001822  \n",
       "2              60980.002063  \n",
       "3              60980.002302  \n",
       "4              60980.002542  \n",
       "...                     ...  \n",
       "184221         61343.272006  \n",
       "184222         61343.272449  \n",
       "184223         61343.272897  \n",
       "184224         61343.273340  \n",
       "184225         61343.273788  \n",
       "\n",
       "[184226 rows x 6 columns]"
      ]
     },
     "execution_count": 14,
     "metadata": {},
     "output_type": "execute_result"
    }
   ],
   "source": [
    "df"
   ]
  },
  {
   "cell_type": "code",
   "execution_count": null,
   "id": "7c9fb98e-4dd5-4d1d-8a1f-0e229a2d266c",
   "metadata": {},
   "outputs": [],
   "source": []
  },
  {
   "cell_type": "code",
   "execution_count": 15,
   "id": "b1ad4848-a29f-4386-b391-925154d3b4c7",
   "metadata": {},
   "outputs": [],
   "source": [
    "bins = np.arange(0,df[\"night\"].max()+2) - 0.5\n",
    "bs, be, bn = binned_statistic(df[\"night\"], df[\"slewTime\"], statistic=np.sum, bins=bins)"
   ]
  },
  {
   "cell_type": "code",
   "execution_count": 16,
   "id": "df6cd27a-0636-46e5-8a94-597f1015b27c",
   "metadata": {},
   "outputs": [
    {
     "data": {
      "text/plain": [
       "[<matplotlib.lines.Line2D at 0x14fd1ba90>]"
      ]
     },
     "execution_count": 16,
     "metadata": {},
     "output_type": "execute_result"
    },
    {
     "data": {
      "image/png": "[encoded data removed]",
      "text/plain": [
       "<Figure size 640x480 with 1 Axes>"
      ]
     },
     "metadata": {},
     "output_type": "display_data"
    }
   ],
   "source": [
    "plt.plot(bins[1:], bs, 'ko')"
   ]
  },
  {
   "cell_type": "code",
   "execution_count": 17,
   "id": "faaf9e01-2b6c-43be-8161-152997c2a4d3",
   "metadata": {},
   "outputs": [],
   "source": [
    "bins = np.arange(0,df[\"night\"].max()+2) - 0.5\n",
    "u_nights = np.unique(df[\"night\"])\n",
    "bs = np.empty(u_nights.size)\n",
    "for i,night in enumerate(u_nights):\n",
    "    indx = np.where(df[\"night\"] == night)\n",
    "    bs[i] = osf(df.iloc[indx])"
   ]
  },
  {
   "cell_type": "code",
   "execution_count": 18,
   "id": "3a59f2b7-04c6-4f04-96ad-91562995697c",
   "metadata": {},
   "outputs": [
    {
     "data": {
      "text/plain": [
       "[<matplotlib.lines.Line2D at 0x1683a1a10>]"
      ]
     },
     "execution_count": 18,
     "metadata": {},
     "output_type": "execute_result"
    },
    {
     "data": {
      "image/png": "[encoded data removed]",
      "text/plain": [
       "<Figure size 640x480 with 1 Axes>"
      ]
     },
     "metadata": {},
     "output_type": "display_data"
    }
   ],
   "source": [
    "plt.plot(u_nights, bs, 'ko')"
   ]
  },
  {
   "cell_type": "code",
   "execution_count": 19,
   "id": "90f1df1c-b76a-4370-b029-8180a0c64ca7",
   "metadata": {},
   "outputs": [
    {
     "data": {
      "text/plain": [
       "array([ 76, 290])"
      ]
     },
     "execution_count": 19,
     "metadata": {},
     "output_type": "execute_result"
    }
   ],
   "source": [
    "u_nights[np.where(bs < 0.6)]"
   ]
  },
  {
   "cell_type": "code",
   "execution_count": 20,
   "id": "9950fa6c-41f8-4e17-b628-5b169f8f1f13",
   "metadata": {},
   "outputs": [
    {
     "data": {
      "text/html": [
       "<div>\n",
       "<style scoped>\n",
       "    .dataframe tbody tr th:only-of-type {\n",
       "        vertical-align: middle;\n",
       "    }\n",
       "\n",
       "    .dataframe tbody tr th {\n",
       "        vertical-align: top;\n",
       "    }\n",
       "\n",
       "    .dataframe thead th {\n",
       "        text-align: right;\n",
       "    }\n",
       "</style>\n",
       "<table border=\"1\" class=\"dataframe\">\n",
       "  <thead>\n",
       "    <tr style=\"text-align: right;\">\n",
       "      <th></th>\n",
       "      <th>night</th>\n",
       "      <th>slewTime</th>\n",
       "      <th>visitTime</th>\n",
       "      <th>visitExposureTime</th>\n",
       "      <th>scheduler_note</th>\n",
       "      <th>observationStartMJD</th>\n",
       "    </tr>\n",
       "  </thead>\n",
       "  <tbody>\n",
       "    <tr>\n",
       "      <th>143062</th>\n",
       "      <td>290</td>\n",
       "      <td>55.887836</td>\n",
       "      <td>33.6</td>\n",
       "      <td>29.2</td>\n",
       "      <td>greedy</td>\n",
       "      <td>61270.430621</td>\n",
       "    </tr>\n",
       "  </tbody>\n",
       "</table>\n",
       "</div>"
      ],
      "text/plain": [
       "        night   slewTime  visitTime  visitExposureTime scheduler_note  \\\n",
       "143062    290  55.887836       33.6               29.2         greedy   \n",
       "\n",
       "        observationStartMJD  \n",
       "143062         61270.430621  "
      ]
     },
     "execution_count": 20,
     "metadata": {},
     "output_type": "execute_result"
    }
   ],
   "source": [
    "indx = np.where(df[\"night\"] == 290)\n",
    "df.iloc[indx]"
   ]
  },
  {
   "cell_type": "code",
   "execution_count": 21,
   "id": "c6bc6fd9-7e52-4dae-855d-b52a56aeb4bd",
   "metadata": {},
   "outputs": [],
   "source": [
    "# why on earth are there nights with only 1 greedy image?"
   ]
  },
  {
   "cell_type": "code",
   "execution_count": 22,
   "id": "dac5d2bc-efe9-45d0-8cd6-624bd4b0d4b0",
   "metadata": {},
   "outputs": [
    {
     "data": {
      "text/html": [
       "<div>\n",
       "<style scoped>\n",
       "    .dataframe tbody tr th:only-of-type {\n",
       "        vertical-align: middle;\n",
       "    }\n",
       "\n",
       "    .dataframe tbody tr th {\n",
       "        vertical-align: top;\n",
       "    }\n",
       "\n",
       "    .dataframe thead th {\n",
       "        text-align: right;\n",
       "    }\n",
       "</style>\n",
       "<table border=\"1\" class=\"dataframe\">\n",
       "  <thead>\n",
       "    <tr style=\"text-align: right;\">\n",
       "      <th></th>\n",
       "      <th>night</th>\n",
       "      <th>slewTime</th>\n",
       "      <th>visitTime</th>\n",
       "      <th>visitExposureTime</th>\n",
       "      <th>scheduler_note</th>\n",
       "      <th>observationStartMJD</th>\n",
       "    </tr>\n",
       "  </thead>\n",
       "  <tbody>\n",
       "    <tr>\n",
       "      <th>32198</th>\n",
       "      <td>76</td>\n",
       "      <td>58.235295</td>\n",
       "      <td>33.6</td>\n",
       "      <td>29.2</td>\n",
       "      <td>greedy</td>\n",
       "      <td>61056.372674</td>\n",
       "    </tr>\n",
       "    <tr>\n",
       "      <th>32199</th>\n",
       "      <td>76</td>\n",
       "      <td>4.831796</td>\n",
       "      <td>33.6</td>\n",
       "      <td>29.2</td>\n",
       "      <td>greedy</td>\n",
       "      <td>61056.373119</td>\n",
       "    </tr>\n",
       "  </tbody>\n",
       "</table>\n",
       "</div>"
      ],
      "text/plain": [
       "       night   slewTime  visitTime  visitExposureTime scheduler_note  \\\n",
       "32198     76  58.235295       33.6               29.2         greedy   \n",
       "32199     76   4.831796       33.6               29.2         greedy   \n",
       "\n",
       "       observationStartMJD  \n",
       "32198         61056.372674  \n",
       "32199         61056.373119  "
      ]
     },
     "execution_count": 22,
     "metadata": {},
     "output_type": "execute_result"
    }
   ],
   "source": [
    "indx = np.where(df[\"night\"] == 76)\n",
    "df.iloc[indx]"
   ]
  },
  {
   "cell_type": "code",
   "execution_count": 24,
   "id": "63566105-85f2-41ff-86af-2e3814049015",
   "metadata": {},
   "outputs": [],
   "source": [
    "mo = ModelObservatory()"
   ]
  },
  {
   "cell_type": "code",
   "execution_count": 25,
   "id": "159416fa-c438-42cb-bd49-419be3843889",
   "metadata": {},
   "outputs": [],
   "source": [
    "mo.mjd = 61056.37267"
   ]
  },
  {
   "cell_type": "code",
   "execution_count": 26,
   "id": "f41041bd-0624-469d-a33a-aa11b52f9aa8",
   "metadata": {},
   "outputs": [
    {
     "data": {
      "text/plain": [
       "array([(60704.66      , 60705.66      ), (60709.66      , 60712.66      ),\n",
       "       (60736.66      , 60743.66      ), (60767.66      , 60768.66      ),\n",
       "       (60772.66      , 60773.66      ), (60789.66      , 60790.66      ),\n",
       "       (60830.66      , 60831.66      ), (60833.66      , 60840.66      ),\n",
       "       (60892.66      , 60893.66      ), (60940.66      , 60947.66      ),\n",
       "       (60967.66      , 60968.66      ), (60980.17083838, 60980.30763668),\n",
       "       (60981.09040146, 60981.13206812), (60982.14601586, 60982.18768253),\n",
       "       (60982.66      , 60989.66      ), (60991.164654  , 60991.27913313),\n",
       "       (60993.03139083, 60993.16007749), (60995.21626865, 60995.35941755),\n",
       "       (60996.02204738, 60996.26529684), (60997.04839283, 60997.33790226),\n",
       "       (60999.15286911, 60999.19453578), (61001.03080398, 61001.22760056),\n",
       "       (61005.02827391, 61005.31133867), (61007.0188401 , 61007.35730598),\n",
       "       (61009.14139225, 61009.29487838), (61011.07865327, 61011.12031994),\n",
       "       (61012.21699077, 61012.25865744), (61013.02269838, 61013.35658357),\n",
       "       (61014.12783064, 61014.30743239), (61017.02918799, 61017.34308647),\n",
       "       (61019.0261915 , 61019.35669061), (61022.03921   , 61022.274419  ),\n",
       "       (61026.05490883, 61026.21971544), (61027.19289032, 61027.23455699),\n",
       "       (61030.12294904, 61030.1646157 ), (61034.03248854, 61034.36062303),\n",
       "       (61034.66      , 61037.66      ), (61038.0334135 , 61038.3624497 ),\n",
       "       (61040.3062881 , 61040.34795476), (61041.04027115, 61041.36011038),\n",
       "       (61042.04055252, 61042.29328666), (61045.05259782, 61045.26407913),\n",
       "       (61049.06135147, 61049.10301814), (61050.24540179, 61050.36592322),\n",
       "       (61054.11949868, 61054.16116534), (61056.0342352 , 61056.37200047),\n",
       "       (61065.03023985, 61065.37999986), (61067.03340592, 61067.34875815),\n",
       "       (61068.1588387 , 61068.37742986), (61069.08505745, 61069.32971342),\n",
       "       (61071.07746911, 61071.11913577), (61073.09838015, 61073.38285051),\n",
       "       (61074.02585458, 61074.38651353), (61075.09774983, 61075.19238865),\n",
       "       (61083.07300092, 61083.29108349), (61085.22808512, 61085.29689678),\n",
       "       (61087.01738087, 61087.39541963), (61088.01664657, 61088.3960631 ),\n",
       "       (61091.05751263, 61091.37630464), (61091.66      , 61092.66      ),\n",
       "       (61094.0120496 , 61094.39980476), (61095.01125485, 61095.4004077 ),\n",
       "       (61097.18956887, 61097.32908479), (61100.09594885, 61100.13761551),\n",
       "       (61101.02294005, 61101.16925358), (61102.08075398, 61102.33557652),\n",
       "       (61105.02449523, 61105.38667272), (61107.06832384, 61107.39253687),\n",
       "       (61108.00040423, 61108.40758326), (61110.21436308, 61110.39680019),\n",
       "       (61110.9978158 , 61111.40909354), (61117.15853087, 61117.20019753),\n",
       "       (61118.28769738, 61118.32936404), (61118.99088368, 61119.41289798),\n",
       "       (61120.01155185, 61120.05321852), (61122.98743867, 61123.41468754),\n",
       "       (61126.02717845, 61126.40916289), (61128.10996475, 61128.19159589),\n",
       "       (61130.12259615, 61130.31287831), (61130.980685  , 61131.41808791),\n",
       "       (61133.05591804, 61133.35302053), (61133.97822495, 61134.41931557),\n",
       "       (61136.00196384, 61136.08726228), (61138.97424618, 61139.42132489),\n",
       "       (61144.96971734, 61145.42369822), (61147.0393465 , 61147.08101316),\n",
       "       (61149.16141721, 61149.38047766), (61151.15290626, 61151.22173943),\n",
       "       (61152.38192499, 61152.42359165), (61153.17494943, 61153.23393077),\n",
       "       (61172.15253758, 61172.23625243), (61173.06405795, 61173.10572461),\n",
       "       (61175.03960191, 61175.16099662), (61177.21366839, 61177.25533506),\n",
       "       (61178.99880458, 61179.22691693), (61182.14414804, 61182.32692869),\n",
       "       (61185.03716572, 61185.07883239), (61187.04741288, 61187.08907955),\n",
       "       (61188.96507756, 61189.37134215), (61193.19950453, 61193.35324189),\n",
       "       (61194.12562803, 61194.16729469), (61198.116543  , 61198.4122121 ),\n",
       "       (61198.66      , 61205.66      ), (61206.22687428, 61206.31975141),\n",
       "       (61209.05306094, 61209.16889715), (61210.04427544, 61210.35330075),\n",
       "       (61224.34999074, 61224.39165741), (61234.19434579, 61234.42894816),\n",
       "       (61236.27786138, 61236.31952804), (61238.11419165, 61238.41865123),\n",
       "       (61239.66      , 61240.66      ), (61241.06916717, 61241.24435362),\n",
       "       (61247.95922741, 61248.44276293), (61252.66      , 61253.66      ),\n",
       "       (61262.66      , 61263.66      ), (61269.99733969, 61270.42997456),\n",
       "       (61275.1267195 , 61275.16838616), (61278.13689586, 61278.31240156),\n",
       "       (61282.17910925, 61282.22077592), (61286.09766885, 61286.13933552),\n",
       "       (61293.0121084 , 61293.39906636), (61297.0123338 , 61297.05400046),\n",
       "       (61303.36095342, 61303.40262009), (61323.19913454, 61323.24080121),\n",
       "       (61324.29903281, 61324.34069948), (61325.03648106, 61325.07814773),\n",
       "       (61347.66      , 61354.66      ), (61458.66      , 61459.66      ),\n",
       "       (61531.66      , 61534.66      ), (61535.66      , 61536.66      ),\n",
       "       (61563.66      , 61577.66      ), (61626.66      , 61627.66      ),\n",
       "       (61663.66      , 61664.66      ), (61676.66      , 61677.66      ),\n",
       "       (61730.66      , 61733.66      ), (61748.66      , 61751.66      ),\n",
       "       (61772.66      , 61773.66      ), (61862.66      , 61863.66      ),\n",
       "       (61868.66      , 61869.66      ), (61879.66      , 61882.66      ),\n",
       "       (61928.66      , 61935.66      ), (61936.66      , 61943.66      ),\n",
       "       (61999.66      , 62000.66      ), (62036.66      , 62037.66      ),\n",
       "       (62077.66      , 62084.66      ), (62121.66      , 62124.66      ),\n",
       "       (62174.66      , 62175.66      ), (62184.66      , 62185.66      ),\n",
       "       (62206.66      , 62207.66      ), (62246.66      , 62247.66      ),\n",
       "       (62293.66      , 62307.66      ), (62394.66      , 62395.66      ),\n",
       "       (62434.66      , 62435.66      ), (62437.66      , 62440.66      ),\n",
       "       (62451.66      , 62452.66      ), (62497.66      , 62498.66      ),\n",
       "       (62540.66      , 62541.66      ), (62549.66      , 62552.66      ),\n",
       "       (62618.66      , 62619.66      ), (62658.66      , 62665.66      ),\n",
       "       (62681.66      , 62682.66      ), (62725.66      , 62728.66      ),\n",
       "       (62756.66      , 62757.66      ), (62781.66      , 62788.66      ),\n",
       "       (62807.66      , 62814.66      ), (62827.66      , 62828.66      ),\n",
       "       (62867.66      , 62881.66      ), (62984.66      , 62985.66      ),\n",
       "       (63007.66      , 63008.66      ), (63016.66      , 63019.66      ),\n",
       "       (63023.66      , 63037.66      ), (63058.66      , 63059.66      ),\n",
       "       (63148.66      , 63149.66      ), (63156.66      , 63157.66      ),\n",
       "       (63280.66      , 63281.66      ), (63284.66      , 63285.66      ),\n",
       "       (63388.66      , 63395.66      ), (63395.66      , 63396.66      ),\n",
       "       (63497.66      , 63498.66      ), (63508.66      , 63511.66      ),\n",
       "       (63535.66      , 63544.66      ), (63560.66      , 63561.66      ),\n",
       "       (63563.66      , 63564.66      ), (63572.66      , 63573.66      ),\n",
       "       (63608.66      , 63609.66      ), (63660.66      , 63661.66      ),\n",
       "       (63670.66      , 63677.66      ), (63753.66      , 63767.66      ),\n",
       "       (63781.66      , 63782.66      ), (63787.66      , 63788.66      ),\n",
       "       (63794.66      , 63795.66      ), (63825.66      , 63826.66      ),\n",
       "       (63885.66      , 63886.66      ), (63904.66      , 63905.66      ),\n",
       "       (63908.66      , 63911.66      ), (63940.66      , 63941.66      ),\n",
       "       (63980.66      , 63981.66      ), (64011.66      , 64012.66      ),\n",
       "       (64060.66      , 64063.66      ), (64118.66      , 64125.66      ),\n",
       "       (64147.66      , 64148.66      ), (64225.66      , 64226.66      ),\n",
       "       (64243.66      , 64244.66      ), (64255.66      , 64256.66      ),\n",
       "       (64267.66      , 64274.66      ), (64283.66      , 64284.66      ),\n",
       "       (64333.66      , 64336.66      ), (64361.66      , 64362.66      ),\n",
       "       (64372.66      , 64373.66      ), (64441.66      , 64442.66      ),\n",
       "       (64479.66      , 64482.66      ), (64483.66      , 64497.66      ),\n",
       "       (64632.66      , 64635.66      ), (64650.66      , 64651.66      ),\n",
       "       (64674.66      , 64675.66      ), (64703.66      , 64704.66      ),\n",
       "       (64810.66      , 64813.66      ), (64848.66      , 64855.66      ),\n",
       "       (64912.66      , 64915.66      ), (64935.66      , 64936.66      ),\n",
       "       (64953.66      , 64954.66      ), (64990.66      , 64991.66      ),\n",
       "       (64997.66      , 65004.66      ), (65076.66      , 65077.66      ),\n",
       "       (65182.66      , 65183.66      ), (65213.66      , 65227.66      ),\n",
       "       (65302.66      , 65305.66      ), (65392.66      , 65399.66      ),\n",
       "       (65403.66      , 65406.66      ), (65467.66      , 65470.66      ),\n",
       "       (65502.66      , 65503.66      ), (65578.66      , 65585.66      ),\n",
       "       (65619.66      , 65620.66      ), (65624.66      , 65625.66      ),\n",
       "       (65639.66      , 65646.66      ), (65659.66      , 65660.66      ),\n",
       "       (65704.66      , 65705.66      ), (65716.66      , 65717.66      ),\n",
       "       (65727.66      , 65734.66      ), (65756.66      , 65763.66      ),\n",
       "       (65767.66      , 65768.66      ), (65902.66      , 65903.66      ),\n",
       "       (65931.66      , 65957.66      ), (65986.66      , 65989.66      ),\n",
       "       (66010.66      , 66011.66      ), (66041.66      , 66042.66      ),\n",
       "       (66054.66      , 66061.66      ), (66234.66      , 66235.66      ),\n",
       "       (66300.66      , 66301.66      ), (66308.66      , 66315.66      ),\n",
       "       (66322.66      , 66325.66      ), (66394.66      , 66397.66      ),\n",
       "       (66410.66      , 66411.66      ), (66457.66      , 66464.66      ),\n",
       "       (66673.66      , 66687.66      ), (66724.66      , 66725.66      ),\n",
       "       (66866.66      , 66867.66      ), (66871.66      , 66872.66      ),\n",
       "       (66877.66      , 66878.66      ), (66894.66      , 66897.66      ),\n",
       "       (66973.66      , 66974.66      ), (66981.66      , 66982.66      ),\n",
       "       (67038.66      , 67045.66      ), (67149.66      , 67150.66      ),\n",
       "       (67187.66      , 67194.66      ), (67245.66      , 67246.66      ),\n",
       "       (67403.66      , 67417.66      ), (67417.66      , 67418.66      ),\n",
       "       (67439.66      , 67442.66      ), (67444.66      , 67445.66      ),\n",
       "       (67477.66      , 67480.66      ), (67519.66      , 67522.66      ),\n",
       "       (67538.66      , 67541.66      ), (67554.66      , 67555.66      ),\n",
       "       (67610.66      , 67611.66      ), (67625.66      , 67628.66      ),\n",
       "       (67634.66      , 67637.66      ), (67645.66      , 67646.66      ),\n",
       "       (67654.66      , 67661.66      ), (67684.66      , 67691.66      ),\n",
       "       (67737.66      , 67738.66      ), (67768.66      , 67775.66      ),\n",
       "       (67798.66      , 67799.66      ), (67829.66      , 67830.66      ),\n",
       "       (67917.66      , 67924.66      ), (67937.66      , 67938.66      )],\n",
       "      dtype=[('start', '<f8'), ('end', '<f8')])"
      ]
     },
     "execution_count": 26,
     "metadata": {},
     "output_type": "execute_result"
    }
   ],
   "source": [
    "mo.downtimes"
   ]
  },
  {
   "cell_type": "code",
   "execution_count": 52,
   "id": "008ac4e6-9e55-407b-85f3-fa5bc11b6d7a",
   "metadata": {},
   "outputs": [
    {
     "data": {
      "text/plain": [
       "(False, 61056.37200046531)"
      ]
     },
     "execution_count": 52,
     "metadata": {},
     "output_type": "execute_result"
    }
   ],
   "source": [
    "mo.check_up(mo.mjd-.2)"
   ]
  },
  {
   "cell_type": "code",
   "execution_count": 50,
   "id": "b13ab87b-1814-49f2-a0c7-658cbd6f6e42",
   "metadata": {},
   "outputs": [
    {
     "data": {
      "text/plain": [
       "(False, 61056.37200046531)"
      ]
     },
     "execution_count": 50,
     "metadata": {},
     "output_type": "execute_result"
    }
   ],
   "source": [
    "mo.check_mjd(mo.mjd-.2)\n"
   ]
  },
  {
   "cell_type": "code",
   "execution_count": 46,
   "id": "6f1ce6a1-8dc6-47d0-8ed8-1e73c7d52070",
   "metadata": {},
   "outputs": [
    {
     "data": {
      "text/plain": [
       "0.25"
      ]
     },
     "execution_count": 46,
     "metadata": {},
     "output_type": "execute_result"
    }
   ],
   "source": [
    "mo.cloud_data(Time(mo.mjd-.1, format=\"mjd\"))"
   ]
  },
  {
   "cell_type": "code",
   "execution_count": 45,
   "id": "86809026-26f1-4ae6-beae-3d0d61d3e62b",
   "metadata": {},
   "outputs": [
    {
     "data": {
      "text/plain": [
       "0.3"
      ]
     },
     "execution_count": 45,
     "metadata": {},
     "output_type": "execute_result"
    }
   ],
   "source": [
    "mo.cloud_limit"
   ]
  },
  {
   "cell_type": "code",
   "execution_count": 47,
   "id": "96b556d4-a597-4369-9e9b-c54c11299cff",
   "metadata": {},
   "outputs": [],
   "source": [
    "cond = mo.return_conditions()"
   ]
  },
  {
   "cell_type": "code",
   "execution_count": 49,
   "id": "41fa0db0-4c73-4b06-ae21-6e8e738ef8c6",
   "metadata": {},
   "outputs": [
    {
     "data": {
      "text/plain": [
       "61056.349698679056"
      ]
     },
     "execution_count": 49,
     "metadata": {},
     "output_type": "execute_result"
    }
   ],
   "source": [
    "cond.sun_n18_rising"
   ]
  },
  {
   "cell_type": "code",
   "execution_count": null,
   "id": "d5379ded-d532-450d-b806-8322af5a60b2",
   "metadata": {},
   "outputs": [],
   "source": []
  },
  {
   "cell_type": "code",
   "execution_count": null,
   "id": "0a7e557a-20ef-4ba7-a50e-e4104b8f1503",
   "metadata": {},
   "outputs": [],
   "source": []
  }
 ],
 "metadata": {
  "kernelspec": {
   "display_name": "Python 3 (ipykernel)",
   "language": "python",
   "name": "python3"
  },
  "language_info": {
   "codemirror_mode": {
    "name": "ipython",
    "version": 3
   },
   "file_extension": ".py",
   "mimetype": "text/x-python",
   "name": "python",
   "nbconvert_exporter": "python",
   "pygments_lexer": "ipython3",
   "version": "3.11.8"
  }
 },
 "nbformat": 4,
 "nbformat_minor": 5
}
