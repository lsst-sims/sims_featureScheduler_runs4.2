{
 "cells": [
  {
   "cell_type": "code",
   "execution_count": 1,
   "id": "d7aae55e-1461-452a-8cac-b710bdc5b092",
   "metadata": {},
   "outputs": [],
   "source": [
    "import numpy as np\n",
    "import sqlite3\n",
    "import pandas as pd\n",
    "import matplotlib.pylab as plt\n",
    "%matplotlib inline"
   ]
  },
  {
   "cell_type": "code",
   "execution_count": 9,
   "id": "e8e7b0ab-bcba-47a2-8bdc-e150a3859326",
   "metadata": {},
   "outputs": [],
   "source": [
    "con = sqlite3.connect(\"baseline_v4.2_10yrs.db\")\n",
    "df = pd.read_sql(\"select scheduler_note from observations;\", con)\n",
    "con.close()"
   ]
  },
  {
   "cell_type": "code",
   "execution_count": 10,
   "id": "e1b06b74-3f9d-4fa1-b2ce-a06d8868a786",
   "metadata": {},
   "outputs": [
    {
     "data": {
      "text/html": [
       "<div>\n",
       "<style scoped>\n",
       "    .dataframe tbody tr th:only-of-type {\n",
       "        vertical-align: middle;\n",
       "    }\n",
       "\n",
       "    .dataframe tbody tr th {\n",
       "        vertical-align: top;\n",
       "    }\n",
       "\n",
       "    .dataframe thead th {\n",
       "        text-align: right;\n",
       "    }\n",
       "</style>\n",
       "<table border=\"1\" class=\"dataframe\">\n",
       "  <thead>\n",
       "    <tr style=\"text-align: right;\">\n",
       "      <th></th>\n",
       "      <th>scheduler_note</th>\n",
       "    </tr>\n",
       "  </thead>\n",
       "  <tbody>\n",
       "    <tr>\n",
       "      <th>0</th>\n",
       "      <td>twilight_near_sun, 0</td>\n",
       "    </tr>\n",
       "    <tr>\n",
       "      <th>1</th>\n",
       "      <td>twilight_near_sun, 0</td>\n",
       "    </tr>\n",
       "    <tr>\n",
       "      <th>2</th>\n",
       "      <td>twilight_near_sun, 0</td>\n",
       "    </tr>\n",
       "    <tr>\n",
       "      <th>3</th>\n",
       "      <td>twilight_near_sun, 0</td>\n",
       "    </tr>\n",
       "    <tr>\n",
       "      <th>4</th>\n",
       "      <td>twilight_near_sun, 0</td>\n",
       "    </tr>\n",
       "    <tr>\n",
       "      <th>...</th>\n",
       "      <td>...</td>\n",
       "    </tr>\n",
       "    <tr>\n",
       "      <th>2015184</th>\n",
       "      <td>pair_33, ri, a</td>\n",
       "    </tr>\n",
       "    <tr>\n",
       "      <th>2015185</th>\n",
       "      <td>pair_33, ri, a</td>\n",
       "    </tr>\n",
       "    <tr>\n",
       "      <th>2015186</th>\n",
       "      <td>pair_33, ri, a</td>\n",
       "    </tr>\n",
       "    <tr>\n",
       "      <th>2015187</th>\n",
       "      <td>pair_33, ri, a</td>\n",
       "    </tr>\n",
       "    <tr>\n",
       "      <th>2015188</th>\n",
       "      <td>pair_33, ri, a</td>\n",
       "    </tr>\n",
       "  </tbody>\n",
       "</table>\n",
       "<p>2015189 rows × 1 columns</p>\n",
       "</div>"
      ],
      "text/plain": [
       "               scheduler_note\n",
       "0        twilight_near_sun, 0\n",
       "1        twilight_near_sun, 0\n",
       "2        twilight_near_sun, 0\n",
       "3        twilight_near_sun, 0\n",
       "4        twilight_near_sun, 0\n",
       "...                       ...\n",
       "2015184        pair_33, ri, a\n",
       "2015185        pair_33, ri, a\n",
       "2015186        pair_33, ri, a\n",
       "2015187        pair_33, ri, a\n",
       "2015188        pair_33, ri, a\n",
       "\n",
       "[2015189 rows x 1 columns]"
      ]
     },
     "execution_count": 10,
     "metadata": {},
     "output_type": "execute_result"
    }
   ],
   "source": [
    "df\n"
   ]
  },
  {
   "cell_type": "code",
   "execution_count": 11,
   "id": "e9dfedde-b273-427a-9b86-1720a8bf2ffc",
   "metadata": {},
   "outputs": [],
   "source": [
    "new_note = [note.split(\",\")[0] for note in df[\"scheduler_note\"]]"
   ]
  },
  {
   "cell_type": "code",
   "execution_count": 12,
   "id": "a878007c-afb3-4df9-af75-c41f8f49b02f",
   "metadata": {},
   "outputs": [
    {
     "data": {
      "text/plain": [
       "array(['DD: RGES_offseason', 'DD: RGES_onseason', 'DD:COSMOS', 'DD:ECDFS',\n",
       "       'DD:EDFS_a', 'DD:EDFS_b', 'DD:ELAISS1', 'DD:XMM_LSS', 'ToO',\n",
       "       'blob_long', 'greedy', 'long', 'pair_15', 'pair_33',\n",
       "       'twilight_near_sun'], dtype='<U18')"
      ]
     },
     "execution_count": 12,
     "metadata": {},
     "output_type": "execute_result"
    }
   ],
   "source": [
    "\n",
    "unote = np.unique(new_note)\n",
    "unote"
   ]
  },
  {
   "cell_type": "code",
   "execution_count": 13,
   "id": "a8b13f39-e78e-4d92-9011-6c0762d34b77",
   "metadata": {},
   "outputs": [],
   "source": [
    "count_dict = {}\n",
    "for key in unote:\n",
    "    count_dict[key] = 0\n",
    "\n",
    "for note in new_note:\n",
    "    count_dict[note] += 1"
   ]
  },
  {
   "cell_type": "code",
   "execution_count": 14,
   "id": "42650469-97aa-4aaf-9fef-a962dbf97949",
   "metadata": {},
   "outputs": [
    {
     "data": {
      "text/plain": [
       "{'DD: RGES_offseason': 874,\n",
       " 'DD: RGES_onseason': 966,\n",
       " 'DD:COSMOS': 45553,\n",
       " 'DD:ECDFS': 23714,\n",
       " 'DD:EDFS_a': 11821,\n",
       " 'DD:EDFS_b': 11761,\n",
       " 'DD:ELAISS1': 22778,\n",
       " 'DD:XMM_LSS': 23298,\n",
       " 'ToO': 23209,\n",
       " 'blob_long': 58446,\n",
       " 'greedy': 124046,\n",
       " 'long': 26375,\n",
       " 'pair_15': 222361,\n",
       " 'pair_33': 1363145,\n",
       " 'twilight_near_sun': 56842}"
      ]
     },
     "execution_count": 14,
     "metadata": {},
     "output_type": "execute_result"
    }
   ],
   "source": [
    "count_dict"
   ]
  },
  {
   "cell_type": "code",
   "execution_count": 8,
   "id": "e30cf533-0cd3-4f03-803f-25ba678f968f",
   "metadata": {},
   "outputs": [
    {
     "data": {
      "text/plain": [
       "{'DD: RGES_offseason': 877,\n",
       " 'DD: RGES_onseason': 970,\n",
       " 'DD:COSMOS': 45671,\n",
       " 'DD:ECDFS': 23798,\n",
       " 'DD:EDFS_a': 11876,\n",
       " 'DD:EDFS_b': 11839,\n",
       " 'DD:ELAISS1': 22828,\n",
       " 'DD:XMM_LSS': 23304,\n",
       " 'ToO': 23372,\n",
       " 'blob_long': 58072,\n",
       " 'greedy': 127853,\n",
       " 'long': 26011,\n",
       " 'pair_15': 208627,\n",
       " 'pair_33': 1371917,\n",
       " 'twilight_near_sun': 56505}"
      ]
     },
     "execution_count": 8,
     "metadata": {},
     "output_type": "execute_result"
    }
   ],
   "source": [
    "# baseline\n",
    "count_dict"
   ]
  },
  {
   "cell_type": "code",
   "execution_count": null,
   "id": "3ff02701-581e-4d7b-9244-24c23efe2106",
   "metadata": {},
   "outputs": [],
   "source": []
  },
  {
   "cell_type": "code",
   "execution_count": null,
   "id": "50df288c-d2e0-4d31-b3d2-97cf700f299d",
   "metadata": {},
   "outputs": [],
   "source": []
  }
 ],
 "metadata": {
  "kernelspec": {
   "display_name": "Python 3 (ipykernel)",
   "language": "python",
   "name": "python3"
  },
  "language_info": {
   "codemirror_mode": {
    "name": "ipython",
    "version": 3
   },
   "file_extension": ".py",
   "mimetype": "text/x-python",
   "name": "python",
   "nbconvert_exporter": "python",
   "pygments_lexer": "ipython3",
   "version": "3.11.8"
  }
 },
 "nbformat": 4,
 "nbformat_minor": 5
}
